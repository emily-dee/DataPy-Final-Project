{
 "cells": [
  {
   "cell_type": "code",
   "execution_count": 1,
   "metadata": {
    "id": "mlNAVhEXfyw_"
   },
   "outputs": [],
   "source": [
    "import requests\n",
    "import pandas as pd\n",
    "import numpy as np"
   ]
  },
  {
   "cell_type": "code",
   "execution_count": 2,
   "metadata": {
    "id": "8QmDHKctg7cE"
   },
   "outputs": [],
   "source": [
    "import json"
   ]
  },
  {
   "cell_type": "code",
   "execution_count": 3,
   "metadata": {},
   "outputs": [],
   "source": [
    "from series_dict import series_dict_1, series_dict_2, series_dict_3, series_dict"
   ]
  },
  {
   "cell_type": "markdown",
   "metadata": {
    "id": "RadnFyVG7rrr"
   },
   "source": [
    "Need to Initialize variables for the token and url values"
   ]
  },
  {
   "cell_type": "code",
   "execution_count": 4,
   "metadata": {
    "id": "swh5dg_JhBI6"
   },
   "outputs": [],
   "source": [
    "token = '70e5b01b221e44558b7ea4b6bf6ba0be'\n",
    "url = 'https://api.bls.gov/publicAPI/v2/timeseries'"
   ]
  },
  {
   "cell_type": "code",
   "execution_count": 5,
   "metadata": {
    "id": "IdptWKQA7utO"
   },
   "outputs": [],
   "source": [
    "df = pd.DataFrame()"
   ]
  },
  {
   "cell_type": "markdown",
   "metadata": {
    "id": "TQlBI1qZ7ySH"
   },
   "source": [
    "Creating the key per BLS specifications"
   ]
  },
  {
   "cell_type": "code",
   "execution_count": 6,
   "metadata": {
    "id": "J_OfOzgFlgcH"
   },
   "outputs": [],
   "source": [
    "key = '?registrationkey={}'.format(token)"
   ]
  },
  {
   "cell_type": "markdown",
   "metadata": {
    "id": "flW9jk5l791_"
   },
   "source": [
    "The API call to gather the json data happens here"
   ]
  },
  {
   "cell_type": "code",
   "execution_count": 7,
   "metadata": {
    "id": "gAQa3Nndl_Rc"
   },
   "outputs": [],
   "source": [
    "headers = {'Content-type': 'application/json'}\n",
    "\n",
    "# Range of years to pull, we're only looking at 2023\n",
    "dates = ('2023', '2023')\n",
    "\n",
    "data1 = json.dumps({\n",
    "    \"seriesid\": list(series_dict_1.keys()),\n",
    "    \"startyear\": dates[0],\n",
    "    \"endyear\": dates[1]})\n",
    "\n",
    "data2 = json.dumps({\n",
    "    \"seriesid\": list(series_dict_2.keys()),\n",
    "    \"startyear\": dates[0],\n",
    "    \"endyear\": dates[1]})\n",
    "\n",
    "data3 = json.dumps({\n",
    "    \"seriesid\": list(series_dict_3.keys()),\n",
    "    \"startyear\": dates[0],\n",
    "    \"endyear\": dates[1]})\n",
    "\n",
    "response1 = requests.post(\n",
    "    '{}{}'.format(f'{url}/data/', key),\n",
    "    headers=headers,\n",
    "    data=data1).json()['Results']['series']\n",
    "\n",
    "response2 = requests.post(\n",
    "    '{}{}'.format(f'{url}/data/', key),\n",
    "    headers=headers,\n",
    "    data=data2).json()['Results']['series']\n",
    "\n",
    "response3 = requests.post(\n",
    "    '{}{}'.format(f'{url}/data/', key),\n",
    "    headers=headers,\n",
    "    data=data3).json()['Results']['series']\n"
   ]
  },
  {
   "cell_type": "code",
   "execution_count": 8,
   "metadata": {
    "colab": {
     "base_uri": "https://localhost:8080/"
    },
    "id": "Y8X5qilp9Try",
    "outputId": "2f79989b-dffc-4694-a76d-51b7efc90a04"
   },
   "outputs": [
    {
     "name": "stdout",
     "output_type": "stream",
     "text": [
      "[{'seriesID': 'LASST400000000000003', 'data': [{'year': '2023', 'period': 'M12', 'periodName': 'December', 'value': '3.5', 'footnotes': [{}]}, {'year': '2023', 'period': 'M11', 'periodName': 'November', 'value': '3.5', 'footnotes': [{}]}, {'year': '2023', 'period': 'M10', 'periodName': 'October', 'value': '3.5', 'footnotes': [{}]}, {'year': '2023', 'period': 'M09', 'periodName': 'September', 'value': '3.5', 'footnotes': [{}]}, {'year': '2023', 'period': 'M08', 'periodName': 'August', 'value': '3.3', 'footnotes': [{}]}, {'year': '2023', 'period': 'M07', 'periodName': 'July', 'value': '3.2', 'footnotes': [{}]}, {'year': '2023', 'period': 'M06', 'periodName': 'June', 'value': '3.1', 'footnotes': [{}]}, {'year': '2023', 'period': 'M05', 'periodName': 'May', 'value': '3.0', 'footnotes': [{}]}, {'year': '2023', 'period': 'M04', 'periodName': 'April', 'value': '2.9', 'footnotes': [{}]}, {'year': '2023', 'period': 'M03', 'periodName': 'March', 'value': '3.0', 'footnotes': [{}]}, {'year': '2023', 'period': 'M02', 'periodName': 'February', 'value': '3.0', 'footnotes': [{}]}, {'year': '2023', 'period': 'M01', 'periodName': 'January', 'value': '3.1', 'footnotes': [{}]}]}, {'seriesID': 'LASST410000000000003', 'data': [{'year': '2023', 'period': 'M12', 'periodName': 'December', 'value': '4.0', 'footnotes': [{}]}, {'year': '2023', 'period': 'M11', 'periodName': 'November', 'value': '4.0', 'footnotes': [{}]}, {'year': '2023', 'period': 'M10', 'periodName': 'October', 'value': '4.0', 'footnotes': [{}]}, {'year': '2023', 'period': 'M09', 'periodName': 'September', 'value': '3.9', 'footnotes': [{}]}, {'year': '2023', 'period': 'M08', 'periodName': 'August', 'value': '3.8', 'footnotes': [{}]}, {'year': '2023', 'period': 'M07', 'periodName': 'July', 'value': '3.6', 'footnotes': [{}]}, {'year': '2023', 'period': 'M06', 'periodName': 'June', 'value': '3.5', 'footnotes': [{}]}, {'year': '2023', 'period': 'M05', 'periodName': 'May', 'value': '3.4', 'footnotes': [{}]}, {'year': '2023', 'period': 'M04', 'periodName': 'April', 'value': '3.4', 'footnotes': [{}]}, {'year': '2023', 'period': 'M03', 'periodName': 'March', 'value': '3.5', 'footnotes': [{}]}, {'year': '2023', 'period': 'M02', 'periodName': 'February', 'value': '3.6', 'footnotes': [{}]}, {'year': '2023', 'period': 'M01', 'periodName': 'January', 'value': '3.8', 'footnotes': [{}]}]}, {'seriesID': 'LASST420000000000003', 'data': [{'year': '2023', 'period': 'M12', 'periodName': 'December', 'value': '3.4', 'footnotes': [{}]}, {'year': '2023', 'period': 'M11', 'periodName': 'November', 'value': '3.4', 'footnotes': [{}]}, {'year': '2023', 'period': 'M10', 'periodName': 'October', 'value': '3.4', 'footnotes': [{}]}, {'year': '2023', 'period': 'M09', 'periodName': 'September', 'value': '3.3', 'footnotes': [{}]}, {'year': '2023', 'period': 'M08', 'periodName': 'August', 'value': '3.3', 'footnotes': [{}]}, {'year': '2023', 'period': 'M07', 'periodName': 'July', 'value': '3.2', 'footnotes': [{}]}, {'year': '2023', 'period': 'M06', 'periodName': 'June', 'value': '3.2', 'footnotes': [{}]}, {'year': '2023', 'period': 'M05', 'periodName': 'May', 'value': '3.3', 'footnotes': [{}]}, {'year': '2023', 'period': 'M04', 'periodName': 'April', 'value': '3.4', 'footnotes': [{}]}, {'year': '2023', 'period': 'M03', 'periodName': 'March', 'value': '3.5', 'footnotes': [{}]}, {'year': '2023', 'period': 'M02', 'periodName': 'February', 'value': '3.7', 'footnotes': [{}]}, {'year': '2023', 'period': 'M01', 'periodName': 'January', 'value': '3.8', 'footnotes': [{}]}]}, {'seriesID': 'LASST440000000000003', 'data': [{'year': '2023', 'period': 'M12', 'periodName': 'December', 'value': '3.4', 'footnotes': [{}]}, {'year': '2023', 'period': 'M11', 'periodName': 'November', 'value': '3.4', 'footnotes': [{}]}, {'year': '2023', 'period': 'M10', 'periodName': 'October', 'value': '3.4', 'footnotes': [{}]}, {'year': '2023', 'period': 'M09', 'periodName': 'September', 'value': '3.2', 'footnotes': [{}]}, {'year': '2023', 'period': 'M08', 'periodName': 'August', 'value': '2.9', 'footnotes': [{}]}, {'year': '2023', 'period': 'M07', 'periodName': 'July', 'value': '2.7', 'footnotes': [{}]}, {'year': '2023', 'period': 'M06', 'periodName': 'June', 'value': '2.6', 'footnotes': [{}]}, {'year': '2023', 'period': 'M05', 'periodName': 'May', 'value': '2.6', 'footnotes': [{}]}, {'year': '2023', 'period': 'M04', 'periodName': 'April', 'value': '2.7', 'footnotes': [{}]}, {'year': '2023', 'period': 'M03', 'periodName': 'March', 'value': '2.7', 'footnotes': [{}]}, {'year': '2023', 'period': 'M02', 'periodName': 'February', 'value': '2.8', 'footnotes': [{}]}, {'year': '2023', 'period': 'M01', 'periodName': 'January', 'value': '2.9', 'footnotes': [{}]}]}, {'seriesID': 'LASST450000000000003', 'data': [{'year': '2023', 'period': 'M12', 'periodName': 'December', 'value': '3.0', 'footnotes': [{}]}, {'year': '2023', 'period': 'M11', 'periodName': 'November', 'value': '3.0', 'footnotes': [{}]}, {'year': '2023', 'period': 'M10', 'periodName': 'October', 'value': '3.0', 'footnotes': [{}]}, {'year': '2023', 'period': 'M09', 'periodName': 'September', 'value': '3.0', 'footnotes': [{}]}, {'year': '2023', 'period': 'M08', 'periodName': 'August', 'value': '2.9', 'footnotes': [{}]}, {'year': '2023', 'period': 'M07', 'periodName': 'July', 'value': '2.8', 'footnotes': [{}]}, {'year': '2023', 'period': 'M06', 'periodName': 'June', 'value': '2.8', 'footnotes': [{}]}, {'year': '2023', 'period': 'M05', 'periodName': 'May', 'value': '2.9', 'footnotes': [{}]}, {'year': '2023', 'period': 'M04', 'periodName': 'April', 'value': '2.9', 'footnotes': [{}]}, {'year': '2023', 'period': 'M03', 'periodName': 'March', 'value': '3.0', 'footnotes': [{}]}, {'year': '2023', 'period': 'M02', 'periodName': 'February', 'value': '3.0', 'footnotes': [{}]}, {'year': '2023', 'period': 'M01', 'periodName': 'January', 'value': '3.1', 'footnotes': [{}]}]}, {'seriesID': 'LASST460000000000003', 'data': [{'year': '2023', 'period': 'M12', 'periodName': 'December', 'value': '2.1', 'footnotes': [{}]}, {'year': '2023', 'period': 'M11', 'periodName': 'November', 'value': '2.1', 'footnotes': [{}]}, {'year': '2023', 'period': 'M10', 'periodName': 'October', 'value': '2.1', 'footnotes': [{}]}, {'year': '2023', 'period': 'M09', 'periodName': 'September', 'value': '2.1', 'footnotes': [{}]}, {'year': '2023', 'period': 'M08', 'periodName': 'August', 'value': '2.0', 'footnotes': [{}]}, {'year': '2023', 'period': 'M07', 'periodName': 'July', 'value': '2.0', 'footnotes': [{}]}, {'year': '2023', 'period': 'M06', 'periodName': 'June', 'value': '2.0', 'footnotes': [{}]}, {'year': '2023', 'period': 'M05', 'periodName': 'May', 'value': '1.9', 'footnotes': [{}]}, {'year': '2023', 'period': 'M04', 'periodName': 'April', 'value': '1.9', 'footnotes': [{}]}, {'year': '2023', 'period': 'M03', 'periodName': 'March', 'value': '1.9', 'footnotes': [{}]}, {'year': '2023', 'period': 'M02', 'periodName': 'February', 'value': '1.9', 'footnotes': [{}]}, {'year': '2023', 'period': 'M01', 'periodName': 'January', 'value': '2.0', 'footnotes': [{}]}]}, {'seriesID': 'LASST470000000000003', 'data': [{'year': '2023', 'period': 'M12', 'periodName': 'December', 'value': '3.4', 'footnotes': [{}]}, {'year': '2023', 'period': 'M11', 'periodName': 'November', 'value': '3.5', 'footnotes': [{}]}, {'year': '2023', 'period': 'M10', 'periodName': 'October', 'value': '3.5', 'footnotes': [{}]}, {'year': '2023', 'period': 'M09', 'periodName': 'September', 'value': '3.4', 'footnotes': [{}]}, {'year': '2023', 'period': 'M08', 'periodName': 'August', 'value': '3.3', 'footnotes': [{}]}, {'year': '2023', 'period': 'M07', 'periodName': 'July', 'value': '3.2', 'footnotes': [{}]}, {'year': '2023', 'period': 'M06', 'periodName': 'June', 'value': '3.1', 'footnotes': [{}]}, {'year': '2023', 'period': 'M05', 'periodName': 'May', 'value': '3.1', 'footnotes': [{}]}, {'year': '2023', 'period': 'M04', 'periodName': 'April', 'value': '3.1', 'footnotes': [{}]}, {'year': '2023', 'period': 'M03', 'periodName': 'March', 'value': '3.2', 'footnotes': [{}]}, {'year': '2023', 'period': 'M02', 'periodName': 'February', 'value': '3.3', 'footnotes': [{}]}, {'year': '2023', 'period': 'M01', 'periodName': 'January', 'value': '3.4', 'footnotes': [{}]}]}, {'seriesID': 'LASST480000000000003', 'data': [{'year': '2023', 'period': 'M12', 'periodName': 'December', 'value': '3.9', 'footnotes': [{}]}, {'year': '2023', 'period': 'M11', 'periodName': 'November', 'value': '3.9', 'footnotes': [{}]}, {'year': '2023', 'period': 'M10', 'periodName': 'October', 'value': '3.9', 'footnotes': [{}]}, {'year': '2023', 'period': 'M09', 'periodName': 'September', 'value': '3.9', 'footnotes': [{}]}, {'year': '2023', 'period': 'M08', 'periodName': 'August', 'value': '3.9', 'footnotes': [{}]}, {'year': '2023', 'period': 'M07', 'periodName': 'July', 'value': '3.9', 'footnotes': [{}]}, {'year': '2023', 'period': 'M06', 'periodName': 'June', 'value': '3.9', 'footnotes': [{}]}, {'year': '2023', 'period': 'M05', 'periodName': 'May', 'value': '4.0', 'footnotes': [{}]}, {'year': '2023', 'period': 'M04', 'periodName': 'April', 'value': '4.0', 'footnotes': [{}]}, {'year': '2023', 'period': 'M03', 'periodName': 'March', 'value': '4.0', 'footnotes': [{}]}, {'year': '2023', 'period': 'M02', 'periodName': 'February', 'value': '4.0', 'footnotes': [{}]}, {'year': '2023', 'period': 'M01', 'periodName': 'January', 'value': '4.1', 'footnotes': [{}]}]}, {'seriesID': 'LASST490000000000003', 'data': [{'year': '2023', 'period': 'M12', 'periodName': 'December', 'value': '2.8', 'footnotes': [{}]}, {'year': '2023', 'period': 'M11', 'periodName': 'November', 'value': '2.8', 'footnotes': [{}]}, {'year': '2023', 'period': 'M10', 'periodName': 'October', 'value': '2.8', 'footnotes': [{}]}, {'year': '2023', 'period': 'M09', 'periodName': 'September', 'value': '2.8', 'footnotes': [{}]}, {'year': '2023', 'period': 'M08', 'periodName': 'August', 'value': '2.7', 'footnotes': [{}]}, {'year': '2023', 'period': 'M07', 'periodName': 'July', 'value': '2.7', 'footnotes': [{}]}, {'year': '2023', 'period': 'M06', 'periodName': 'June', 'value': '2.6', 'footnotes': [{}]}, {'year': '2023', 'period': 'M05', 'periodName': 'May', 'value': '2.5', 'footnotes': [{}]}, {'year': '2023', 'period': 'M04', 'periodName': 'April', 'value': '2.5', 'footnotes': [{}]}, {'year': '2023', 'period': 'M03', 'periodName': 'March', 'value': '2.5', 'footnotes': [{}]}, {'year': '2023', 'period': 'M02', 'periodName': 'February', 'value': '2.5', 'footnotes': [{}]}, {'year': '2023', 'period': 'M01', 'periodName': 'January', 'value': '2.5', 'footnotes': [{}]}]}, {'seriesID': 'LASST500000000000003', 'data': [{'year': '2023', 'period': 'M12', 'periodName': 'December', 'value': '2.3', 'footnotes': [{}]}, {'year': '2023', 'period': 'M11', 'periodName': 'November', 'value': '2.3', 'footnotes': [{}]}, {'year': '2023', 'period': 'M10', 'periodName': 'October', 'value': '2.3', 'footnotes': [{}]}, {'year': '2023', 'period': 'M09', 'periodName': 'September', 'value': '2.2', 'footnotes': [{}]}, {'year': '2023', 'period': 'M08', 'periodName': 'August', 'value': '2.1', 'footnotes': [{}]}, {'year': '2023', 'period': 'M07', 'periodName': 'July', 'value': '1.9', 'footnotes': [{}]}, {'year': '2023', 'period': 'M06', 'periodName': 'June', 'value': '1.8', 'footnotes': [{}]}, {'year': '2023', 'period': 'M05', 'periodName': 'May', 'value': '1.7', 'footnotes': [{}]}, {'year': '2023', 'period': 'M04', 'periodName': 'April', 'value': '1.7', 'footnotes': [{}]}, {'year': '2023', 'period': 'M03', 'periodName': 'March', 'value': '1.8', 'footnotes': [{}]}, {'year': '2023', 'period': 'M02', 'periodName': 'February', 'value': '1.9', 'footnotes': [{}]}, {'year': '2023', 'period': 'M01', 'periodName': 'January', 'value': '2.1', 'footnotes': [{}]}]}, {'seriesID': 'LASST510000000000003', 'data': [{'year': '2023', 'period': 'M12', 'periodName': 'December', 'value': '3.0', 'footnotes': [{}]}, {'year': '2023', 'period': 'M11', 'periodName': 'November', 'value': '3.1', 'footnotes': [{}]}, {'year': '2023', 'period': 'M10', 'periodName': 'October', 'value': '3.0', 'footnotes': [{}]}, {'year': '2023', 'period': 'M09', 'periodName': 'September', 'value': '2.9', 'footnotes': [{}]}, {'year': '2023', 'period': 'M08', 'periodName': 'August', 'value': '2.7', 'footnotes': [{}]}, {'year': '2023', 'period': 'M07', 'periodName': 'July', 'value': '2.6', 'footnotes': [{}]}, {'year': '2023', 'period': 'M06', 'periodName': 'June', 'value': '2.6', 'footnotes': [{}]}, {'year': '2023', 'period': 'M05', 'periodName': 'May', 'value': '2.6', 'footnotes': [{}]}, {'year': '2023', 'period': 'M04', 'periodName': 'April', 'value': '2.7', 'footnotes': [{}]}, {'year': '2023', 'period': 'M03', 'periodName': 'March', 'value': '2.9', 'footnotes': [{}]}, {'year': '2023', 'period': 'M02', 'periodName': 'February', 'value': '3.0', 'footnotes': [{}]}, {'year': '2023', 'period': 'M01', 'periodName': 'January', 'value': '3.1', 'footnotes': [{}]}]}, {'seriesID': 'LASST530000000000003', 'data': [{'year': '2023', 'period': 'M12', 'periodName': 'December', 'value': '4.4', 'footnotes': [{}]}, {'year': '2023', 'period': 'M11', 'periodName': 'November', 'value': '4.4', 'footnotes': [{}]}, {'year': '2023', 'period': 'M10', 'periodName': 'October', 'value': '4.4', 'footnotes': [{}]}, {'year': '2023', 'period': 'M09', 'periodName': 'September', 'value': '4.3', 'footnotes': [{}]}, {'year': '2023', 'period': 'M08', 'periodName': 'August', 'value': '4.1', 'footnotes': [{}]}, {'year': '2023', 'period': 'M07', 'periodName': 'July', 'value': '3.9', 'footnotes': [{}]}, {'year': '2023', 'period': 'M06', 'periodName': 'June', 'value': '3.8', 'footnotes': [{}]}, {'year': '2023', 'period': 'M05', 'periodName': 'May', 'value': '3.8', 'footnotes': [{}]}, {'year': '2023', 'period': 'M04', 'periodName': 'April', 'value': '3.8', 'footnotes': [{}]}, {'year': '2023', 'period': 'M03', 'periodName': 'March', 'value': '3.9', 'footnotes': [{}]}, {'year': '2023', 'period': 'M02', 'periodName': 'February', 'value': '4.0', 'footnotes': [{}]}, {'year': '2023', 'period': 'M01', 'periodName': 'January', 'value': '4.1', 'footnotes': [{}]}]}, {'seriesID': 'LASST540000000000003', 'data': [{'year': '2023', 'period': 'M12', 'periodName': 'December', 'value': '4.3', 'footnotes': [{}]}, {'year': '2023', 'period': 'M11', 'periodName': 'November', 'value': '4.3', 'footnotes': [{}]}, {'year': '2023', 'period': 'M10', 'periodName': 'October', 'value': '4.3', 'footnotes': [{}]}, {'year': '2023', 'period': 'M09', 'periodName': 'September', 'value': '4.3', 'footnotes': [{}]}, {'year': '2023', 'period': 'M08', 'periodName': 'August', 'value': '4.2', 'footnotes': [{}]}, {'year': '2023', 'period': 'M07', 'periodName': 'July', 'value': '4.0', 'footnotes': [{}]}, {'year': '2023', 'period': 'M06', 'periodName': 'June', 'value': '3.8', 'footnotes': [{}]}, {'year': '2023', 'period': 'M05', 'periodName': 'May', 'value': '3.6', 'footnotes': [{}]}, {'year': '2023', 'period': 'M04', 'periodName': 'April', 'value': '3.5', 'footnotes': [{}]}, {'year': '2023', 'period': 'M03', 'periodName': 'March', 'value': '3.5', 'footnotes': [{}]}, {'year': '2023', 'period': 'M02', 'periodName': 'February', 'value': '3.5', 'footnotes': [{}]}, {'year': '2023', 'period': 'M01', 'periodName': 'January', 'value': '3.6', 'footnotes': [{}]}]}, {'seriesID': 'LASST550000000000003', 'data': [{'year': '2023', 'period': 'M12', 'periodName': 'December', 'value': '3.4', 'footnotes': [{}]}, {'year': '2023', 'period': 'M11', 'periodName': 'November', 'value': '3.4', 'footnotes': [{}]}, {'year': '2023', 'period': 'M10', 'periodName': 'October', 'value': '3.4', 'footnotes': [{}]}, {'year': '2023', 'period': 'M09', 'periodName': 'September', 'value': '3.4', 'footnotes': [{}]}, {'year': '2023', 'period': 'M08', 'periodName': 'August', 'value': '3.3', 'footnotes': [{}]}, {'year': '2023', 'period': 'M07', 'periodName': 'July', 'value': '3.2', 'footnotes': [{}]}, {'year': '2023', 'period': 'M06', 'periodName': 'June', 'value': '3.0', 'footnotes': [{}]}, {'year': '2023', 'period': 'M05', 'periodName': 'May', 'value': '2.9', 'footnotes': [{}]}, {'year': '2023', 'period': 'M04', 'periodName': 'April', 'value': '2.7', 'footnotes': [{}]}, {'year': '2023', 'period': 'M03', 'periodName': 'March', 'value': '2.6', 'footnotes': [{}]}, {'year': '2023', 'period': 'M02', 'periodName': 'February', 'value': '2.6', 'footnotes': [{}]}, {'year': '2023', 'period': 'M01', 'periodName': 'January', 'value': '2.7', 'footnotes': [{}]}]}, {'seriesID': 'LASST560000000000003', 'data': [{'year': '2023', 'period': 'M12', 'periodName': 'December', 'value': '2.9', 'footnotes': [{}]}, {'year': '2023', 'period': 'M11', 'periodName': 'November', 'value': '2.9', 'footnotes': [{}]}, {'year': '2023', 'period': 'M10', 'periodName': 'October', 'value': '2.9', 'footnotes': [{}]}, {'year': '2023', 'period': 'M09', 'periodName': 'September', 'value': '2.9', 'footnotes': [{}]}, {'year': '2023', 'period': 'M08', 'periodName': 'August', 'value': '2.8', 'footnotes': [{}]}, {'year': '2023', 'period': 'M07', 'periodName': 'July', 'value': '2.8', 'footnotes': [{}]}, {'year': '2023', 'period': 'M06', 'periodName': 'June', 'value': '2.8', 'footnotes': [{}]}, {'year': '2023', 'period': 'M05', 'periodName': 'May', 'value': '2.8', 'footnotes': [{}]}, {'year': '2023', 'period': 'M04', 'periodName': 'April', 'value': '2.8', 'footnotes': [{}]}, {'year': '2023', 'period': 'M03', 'periodName': 'March', 'value': '3.0', 'footnotes': [{}]}, {'year': '2023', 'period': 'M02', 'periodName': 'February', 'value': '3.1', 'footnotes': [{}]}, {'year': '2023', 'period': 'M01', 'periodName': 'January', 'value': '3.3', 'footnotes': [{}]}]}]\n"
     ]
    }
   ],
   "source": [
    "# Sample json data\n",
    "print(response3)"
   ]
  },
  {
   "cell_type": "markdown",
   "metadata": {
    "id": "Jq0PYVhe8F1l"
   },
   "source": [
    "Defining function to programmatically pull the nessesary data out of json for use in a dataframe"
   ]
  },
  {
   "cell_type": "code",
   "execution_count": 9,
   "metadata": {
    "id": "vfcNPXMV-hB0"
   },
   "outputs": [],
   "source": [
    "# This function pulls the values out of the json data and finds the mean per seriesID\n",
    "\n",
    "def parse_json_response(responses):\n",
    "\n",
    "  df = pd.DataFrame()\n",
    "\n",
    "  # Initialze blank list for the values and the seriesIDs\n",
    "  unemployed_column_list = list()\n",
    "  states_column_list = list()\n",
    "\n",
    "  # Iterate through each item in the response\n",
    "  for i in responses:\n",
    "    states_column_list.append(i['seriesID'])\n",
    "    unemploy_value = list()\n",
    "\n",
    "    # Iterate through each set of data in the response\n",
    "    for j in i['data']:\n",
    "      unemploy_value.append(float(j['value']))\n",
    "\n",
    "    unemployed_column_list.append(np.mean(unemploy_value))\n",
    "\n",
    "  df['Unemployment Rate'] = unemployed_column_list\n",
    "  df['State'] = states_column_list\n",
    "\n",
    "  return df"
   ]
  },
  {
   "cell_type": "code",
   "execution_count": 10,
   "metadata": {
    "id": "K-wmDmly0rJI"
   },
   "outputs": [],
   "source": [
    "df1 = parse_json_response(response1)\n",
    "df2 = parse_json_response(response2)\n",
    "df3 = parse_json_response(response3)"
   ]
  },
  {
   "cell_type": "code",
   "execution_count": 11,
   "metadata": {
    "id": "C48OWrY2Mmf7"
   },
   "outputs": [],
   "source": [
    "df = pd.concat([df1, df2, df3], ignore_index=True)"
   ]
  },
  {
   "cell_type": "code",
   "execution_count": 12,
   "metadata": {
    "id": "PxU44_eiE86w"
   },
   "outputs": [],
   "source": [
    "# Use the series dictionary to rename the states\n",
    "df['State'] = df['State'].replace(series_dict)"
   ]
  },
  {
   "cell_type": "markdown",
   "metadata": {
    "id": "3Y-Id0tV8r7A"
   },
   "source": [
    "Final unemployment dataframe includes a column for the unemployment average for 2023 and the state"
   ]
  },
  {
   "cell_type": "code",
   "execution_count": 13,
   "metadata": {
    "colab": {
     "base_uri": "https://localhost:8080/",
     "height": 1000
    },
    "id": "w6ZxrHaX8UPZ",
    "outputId": "7c9027f0-21c5-4ae5-ec4a-1a04fa32b801"
   },
   "outputs": [
    {
     "data": {
      "text/html": [
       "<div>\n",
       "<style scoped>\n",
       "    .dataframe tbody tr th:only-of-type {\n",
       "        vertical-align: middle;\n",
       "    }\n",
       "\n",
       "    .dataframe tbody tr th {\n",
       "        vertical-align: top;\n",
       "    }\n",
       "\n",
       "    .dataframe thead th {\n",
       "        text-align: right;\n",
       "    }\n",
       "</style>\n",
       "<table border=\"1\" class=\"dataframe\">\n",
       "  <thead>\n",
       "    <tr style=\"text-align: right;\">\n",
       "      <th></th>\n",
       "      <th>Unemployment Rate</th>\n",
       "      <th>State</th>\n",
       "    </tr>\n",
       "  </thead>\n",
       "  <tbody>\n",
       "    <tr>\n",
       "      <th>0</th>\n",
       "      <td>2.491667</td>\n",
       "      <td>Alabama</td>\n",
       "    </tr>\n",
       "    <tr>\n",
       "      <th>1</th>\n",
       "      <td>4.216667</td>\n",
       "      <td>Alaska</td>\n",
       "    </tr>\n",
       "    <tr>\n",
       "      <th>2</th>\n",
       "      <td>3.908333</td>\n",
       "      <td>Arizona</td>\n",
       "    </tr>\n",
       "    <tr>\n",
       "      <th>3</th>\n",
       "      <td>3.225000</td>\n",
       "      <td>Arkansas</td>\n",
       "    </tr>\n",
       "    <tr>\n",
       "      <th>4</th>\n",
       "      <td>4.741667</td>\n",
       "      <td>California</td>\n",
       "    </tr>\n",
       "    <tr>\n",
       "      <th>5</th>\n",
       "      <td>3.150000</td>\n",
       "      <td>Colorado</td>\n",
       "    </tr>\n",
       "    <tr>\n",
       "      <th>6</th>\n",
       "      <td>3.708333</td>\n",
       "      <td>Connecticut</td>\n",
       "    </tr>\n",
       "    <tr>\n",
       "      <th>7</th>\n",
       "      <td>3.983333</td>\n",
       "      <td>Delaware</td>\n",
       "    </tr>\n",
       "    <tr>\n",
       "      <th>8</th>\n",
       "      <td>2.908333</td>\n",
       "      <td>Florida</td>\n",
       "    </tr>\n",
       "    <tr>\n",
       "      <th>9</th>\n",
       "      <td>3.200000</td>\n",
       "      <td>Georgia</td>\n",
       "    </tr>\n",
       "    <tr>\n",
       "      <th>10</th>\n",
       "      <td>2.933333</td>\n",
       "      <td>Hawaii</td>\n",
       "    </tr>\n",
       "    <tr>\n",
       "      <th>11</th>\n",
       "      <td>3.083333</td>\n",
       "      <td>Idaho</td>\n",
       "    </tr>\n",
       "    <tr>\n",
       "      <th>12</th>\n",
       "      <td>4.458333</td>\n",
       "      <td>Illinois</td>\n",
       "    </tr>\n",
       "    <tr>\n",
       "      <th>13</th>\n",
       "      <td>3.341667</td>\n",
       "      <td>Indiana</td>\n",
       "    </tr>\n",
       "    <tr>\n",
       "      <th>14</th>\n",
       "      <td>2.958333</td>\n",
       "      <td>Iowa</td>\n",
       "    </tr>\n",
       "    <tr>\n",
       "      <th>15</th>\n",
       "      <td>2.650000</td>\n",
       "      <td>Kansas</td>\n",
       "    </tr>\n",
       "    <tr>\n",
       "      <th>16</th>\n",
       "      <td>4.158333</td>\n",
       "      <td>Kentucky</td>\n",
       "    </tr>\n",
       "    <tr>\n",
       "      <th>17</th>\n",
       "      <td>3.641667</td>\n",
       "      <td>Louisiana</td>\n",
       "    </tr>\n",
       "    <tr>\n",
       "      <th>18</th>\n",
       "      <td>2.833333</td>\n",
       "      <td>Maine</td>\n",
       "    </tr>\n",
       "    <tr>\n",
       "      <th>19</th>\n",
       "      <td>2.100000</td>\n",
       "      <td>Maryland</td>\n",
       "    </tr>\n",
       "    <tr>\n",
       "      <th>20</th>\n",
       "      <td>3.341667</td>\n",
       "      <td>Massachusetts</td>\n",
       "    </tr>\n",
       "    <tr>\n",
       "      <th>21</th>\n",
       "      <td>3.891667</td>\n",
       "      <td>Michigan</td>\n",
       "    </tr>\n",
       "    <tr>\n",
       "      <th>22</th>\n",
       "      <td>2.825000</td>\n",
       "      <td>Minnesota</td>\n",
       "    </tr>\n",
       "    <tr>\n",
       "      <th>23</th>\n",
       "      <td>3.200000</td>\n",
       "      <td>Mississippi</td>\n",
       "    </tr>\n",
       "    <tr>\n",
       "      <th>24</th>\n",
       "      <td>3.058333</td>\n",
       "      <td>Missouri</td>\n",
       "    </tr>\n",
       "    <tr>\n",
       "      <th>25</th>\n",
       "      <td>2.858333</td>\n",
       "      <td>Montana</td>\n",
       "    </tr>\n",
       "    <tr>\n",
       "      <th>26</th>\n",
       "      <td>2.266667</td>\n",
       "      <td>Nebraska</td>\n",
       "    </tr>\n",
       "    <tr>\n",
       "      <th>27</th>\n",
       "      <td>5.141667</td>\n",
       "      <td>Nevada</td>\n",
       "    </tr>\n",
       "    <tr>\n",
       "      <th>28</th>\n",
       "      <td>2.166667</td>\n",
       "      <td>New Hampshire</td>\n",
       "    </tr>\n",
       "    <tr>\n",
       "      <th>29</th>\n",
       "      <td>4.416667</td>\n",
       "      <td>New Jersey</td>\n",
       "    </tr>\n",
       "    <tr>\n",
       "      <th>30</th>\n",
       "      <td>3.750000</td>\n",
       "      <td>New Mexico</td>\n",
       "    </tr>\n",
       "    <tr>\n",
       "      <th>31</th>\n",
       "      <td>4.208333</td>\n",
       "      <td>New York</td>\n",
       "    </tr>\n",
       "    <tr>\n",
       "      <th>32</th>\n",
       "      <td>3.458333</td>\n",
       "      <td>North Carolina</td>\n",
       "    </tr>\n",
       "    <tr>\n",
       "      <th>33</th>\n",
       "      <td>1.883333</td>\n",
       "      <td>North Dakota</td>\n",
       "    </tr>\n",
       "    <tr>\n",
       "      <th>34</th>\n",
       "      <td>3.525000</td>\n",
       "      <td>Ohio</td>\n",
       "    </tr>\n",
       "    <tr>\n",
       "      <th>35</th>\n",
       "      <td>3.216667</td>\n",
       "      <td>Oklahoma</td>\n",
       "    </tr>\n",
       "    <tr>\n",
       "      <th>36</th>\n",
       "      <td>3.708333</td>\n",
       "      <td>Oregon</td>\n",
       "    </tr>\n",
       "    <tr>\n",
       "      <th>37</th>\n",
       "      <td>3.408333</td>\n",
       "      <td>Pennsylvania</td>\n",
       "    </tr>\n",
       "    <tr>\n",
       "      <th>38</th>\n",
       "      <td>2.941667</td>\n",
       "      <td>Rhode Island</td>\n",
       "    </tr>\n",
       "    <tr>\n",
       "      <th>39</th>\n",
       "      <td>2.950000</td>\n",
       "      <td>South Carolina</td>\n",
       "    </tr>\n",
       "    <tr>\n",
       "      <th>40</th>\n",
       "      <td>2.000000</td>\n",
       "      <td>South Dakota</td>\n",
       "    </tr>\n",
       "    <tr>\n",
       "      <th>41</th>\n",
       "      <td>3.291667</td>\n",
       "      <td>Tennessee</td>\n",
       "    </tr>\n",
       "    <tr>\n",
       "      <th>42</th>\n",
       "      <td>3.950000</td>\n",
       "      <td>Texas</td>\n",
       "    </tr>\n",
       "    <tr>\n",
       "      <th>43</th>\n",
       "      <td>2.641667</td>\n",
       "      <td>Utah</td>\n",
       "    </tr>\n",
       "    <tr>\n",
       "      <th>44</th>\n",
       "      <td>2.008333</td>\n",
       "      <td>Vermont</td>\n",
       "    </tr>\n",
       "    <tr>\n",
       "      <th>45</th>\n",
       "      <td>2.850000</td>\n",
       "      <td>Virginia</td>\n",
       "    </tr>\n",
       "    <tr>\n",
       "      <th>46</th>\n",
       "      <td>4.075000</td>\n",
       "      <td>Washington</td>\n",
       "    </tr>\n",
       "    <tr>\n",
       "      <th>47</th>\n",
       "      <td>3.908333</td>\n",
       "      <td>West Virginia</td>\n",
       "    </tr>\n",
       "    <tr>\n",
       "      <th>48</th>\n",
       "      <td>3.050000</td>\n",
       "      <td>Wisconsin</td>\n",
       "    </tr>\n",
       "    <tr>\n",
       "      <th>49</th>\n",
       "      <td>2.916667</td>\n",
       "      <td>Wyoming</td>\n",
       "    </tr>\n",
       "  </tbody>\n",
       "</table>\n",
       "</div>"
      ],
      "text/plain": [
       "    Unemployment Rate           State\n",
       "0            2.491667         Alabama\n",
       "1            4.216667          Alaska\n",
       "2            3.908333         Arizona\n",
       "3            3.225000        Arkansas\n",
       "4            4.741667      California\n",
       "5            3.150000        Colorado\n",
       "6            3.708333     Connecticut\n",
       "7            3.983333        Delaware\n",
       "8            2.908333         Florida\n",
       "9            3.200000         Georgia\n",
       "10           2.933333          Hawaii\n",
       "11           3.083333           Idaho\n",
       "12           4.458333        Illinois\n",
       "13           3.341667         Indiana\n",
       "14           2.958333            Iowa\n",
       "15           2.650000          Kansas\n",
       "16           4.158333        Kentucky\n",
       "17           3.641667       Louisiana\n",
       "18           2.833333           Maine\n",
       "19           2.100000        Maryland\n",
       "20           3.341667   Massachusetts\n",
       "21           3.891667        Michigan\n",
       "22           2.825000       Minnesota\n",
       "23           3.200000     Mississippi\n",
       "24           3.058333        Missouri\n",
       "25           2.858333         Montana\n",
       "26           2.266667        Nebraska\n",
       "27           5.141667          Nevada\n",
       "28           2.166667  New Hampshire \n",
       "29           4.416667      New Jersey\n",
       "30           3.750000      New Mexico\n",
       "31           4.208333        New York\n",
       "32           3.458333  North Carolina\n",
       "33           1.883333    North Dakota\n",
       "34           3.525000            Ohio\n",
       "35           3.216667        Oklahoma\n",
       "36           3.708333          Oregon\n",
       "37           3.408333    Pennsylvania\n",
       "38           2.941667    Rhode Island\n",
       "39           2.950000  South Carolina\n",
       "40           2.000000    South Dakota\n",
       "41           3.291667       Tennessee\n",
       "42           3.950000           Texas\n",
       "43           2.641667            Utah\n",
       "44           2.008333         Vermont\n",
       "45           2.850000        Virginia\n",
       "46           4.075000      Washington\n",
       "47           3.908333   West Virginia\n",
       "48           3.050000       Wisconsin\n",
       "49           2.916667         Wyoming"
      ]
     },
     "execution_count": 13,
     "metadata": {},
     "output_type": "execute_result"
    }
   ],
   "source": [
    "df.head(50)"
   ]
  },
  {
   "cell_type": "code",
   "execution_count": 14,
   "metadata": {
    "id": "BUkvYpLrGKqH"
   },
   "outputs": [],
   "source": [
    "df.to_csv('unemployment_df.csv')"
   ]
  },
  {
   "cell_type": "code",
   "execution_count": null,
   "metadata": {},
   "outputs": [],
   "source": []
  }
 ],
 "metadata": {
  "colab": {
   "provenance": []
  },
  "kernelspec": {
   "display_name": "Python 3 (ipykernel)",
   "language": "python",
   "name": "python3"
  },
  "language_info": {
   "codemirror_mode": {
    "name": "ipython",
    "version": 3
   },
   "file_extension": ".py",
   "mimetype": "text/x-python",
   "name": "python",
   "nbconvert_exporter": "python",
   "pygments_lexer": "ipython3",
   "version": "3.11.7"
  }
 },
 "nbformat": 4,
 "nbformat_minor": 4
}
